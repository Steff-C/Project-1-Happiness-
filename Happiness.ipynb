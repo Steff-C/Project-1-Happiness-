{
 "cells": [
  {
   "cell_type": "code",
   "execution_count": null,
   "metadata": {},
   "outputs": [],
   "source": [
    "# Dependencies and Setup\n",
    "import matplotlib.pyplot as plt\n",
    "import pandas as pd\n",
    "import scipy.stats as st\n",
    "import numpy as np\n",
    "import functools\n",
    "\n",
    "\n"
   ]
  },
  {
   "cell_type": "code",
   "execution_count": null,
   "metadata": {},
   "outputs": [],
   "source": [
    "# Data file paths\n",
    "alcohol_path = \"data (1).csv\"\n",
    "happiness_path = \"2018.csv\"\n",
    "hdi_path = \"2018 Human Development Index (HDI).csv\"\n",
    "gdp_path = \"GDP per capita (2017 PPP $).csv\"\n",
    "life_path = \"Life expectancy at birth (years).csv\"\n",
    "\n",
    "# Output file\n",
    "output_data_file = \"output_data/alcohol_vs_happiness.csv\"\n",
    "\n",
    "# Read the data files\n",
    "alcohol_data = pd.read_csv(alcohol_path)\n",
    "happiness_data = pd.read_csv(happiness_path)\n",
    "hdi_data = pd.read_csv(hdi_path, skiprows=5, encoding=\"cp1252\")\n",
    "gdp_data = pd.read_csv(gdp_path, encoding=\"cp1252\", skiprows=5)\n",
    "life_data = pd.read_csv(life_path, encoding=\"cp1252\", skiprows=6)\n"
   ]
  },
  {
   "cell_type": "code",
   "execution_count": null,
   "metadata": {},
   "outputs": [],
   "source": [
    "# Grab 2018 data, clean and merge HDI, GDP and Life Expectancy \n",
    "clean_gdp_data = gdp_data[[\"Country\", \"2018\"]]\n",
    "gdp_hdi = clean_gdp_data.merge(hdi_data, how='inner', on=[\"Country\"])\n",
    "final_gdp_hdi = gdp_hdi.rename(columns={\"2018_x\": \"GDP (per capita PPP)\", \"2018_y\": \"HDI\"})\n",
    "clean_life_data = life_data[[\"Country\", \"2018\"]]\n",
    "clean_life_data = clean_life_data.rename(columns={\"2018\": \"Life Expectancy\"})\n",
    "final_hdi_gdp_life = final_gdp_hdi.merge(clean_life_data, how='inner', on=[\"Country\"])\n",
    "#final_hdi_gdp_life = final_hdi_gdp_life.dropna()\n",
    "final_hdi_gdp_life = final_hdi_gdp_life.iloc[:-25]\n",
    "final_hdi_gdp_life.dtypes"
   ]
  },
  {
   "cell_type": "code",
   "execution_count": null,
   "metadata": {},
   "outputs": [],
   "source": [
    "final_hdi_gdp_life[[\"GDP (per capita PPP)\", \"HDI Rank\", \"HDI\", \"Life Expectancy\"]] = final_hdi_gdp_life[[\"GDP (per capita PPP)\", \"HDI Rank\", \"HDI\", \"Life Expectancy\"]].astype(float)\n",
    "final_hdi_gdp_life.dtypes\n"
   ]
  },
  {
   "cell_type": "code",
   "execution_count": null,
   "metadata": {},
   "outputs": [],
   "source": [
    "final_hdi_gdp_life = final_hdi_gdp_life.sort_values(by='GDP (per capita PPP)', ascending=False)\n",
    "\n",
    "final_hdi_gdp_life[\"Country\"] = final_hdi_gdp_life[\"Country\"].str.strip()\n",
    "final_hdi_gdp_life"
   ]
  },
  {
   "cell_type": "code",
   "execution_count": null,
   "metadata": {},
   "outputs": [],
   "source": [
    "top_hdi = final_hdi_gdp_life.sort_values(by='Country', ascending=False)\n",
    "top_hdi.head(50)"
   ]
  },
  {
   "cell_type": "code",
   "execution_count": null,
   "metadata": {},
   "outputs": [],
   "source": [
    "# Clean World Happiness Report\n",
    "happiness_final = happiness_data.rename(columns={\"Country or region\": \"Country\"})\n",
    "happiness_final['Country'] = happiness_final['Country'].replace({\"Russia\": \"Russian Federation\"})\n",
    "happiness_final"
   ]
  },
  {
   "cell_type": "code",
   "execution_count": null,
   "metadata": {},
   "outputs": [],
   "source": [
    "top_happ = happiness_final.sort_values(by='Country', ascending=False)\n",
    "top_happ.head(50)"
   ]
  },
  {
   "cell_type": "code",
   "execution_count": null,
   "metadata": {},
   "outputs": [],
   "source": [
    "# Clean, pivot and reorganize alcohol data\n",
    "alcohol_df = alcohol_data.drop([0])\n",
    "alcohol_results = alcohol_df.pivot_table('Alcohol, recorded per capita (15+) consumption (in litres of pure alcohol)', \n",
    "                                           [\"Unnamed: 0\", \"Unnamed: 1\"], 'Unnamed: 2')                              \n",
    "alcohol = pd.DataFrame(alcohol_results.to_records())\n",
    "alcohol_set = alcohol[[\"Unnamed: 0\", \"All types\", \"Beer\", \"Spirits\", \"Wine\", \"Other alcoholic beverages\"]]\n",
    "alcohol_final = alcohol_set.rename(columns={\"Unnamed: 0\": \"Country\", \"Other alcoholic beverages\": \"Other\"})\n",
    "alcohol_final"
   ]
  },
  {
   "cell_type": "code",
   "execution_count": null,
   "metadata": {},
   "outputs": [],
   "source": [
    "#alcohol_final[\"Country\"]==\"United States of America\"\n",
    "alcohol_final['Country'] = alcohol_final['Country'].replace({'United States of America': 'United States',\n",
    "                                                            \"United Kingdom of Great Britain and Northern Ireland\":\n",
    "                                                            \"United Kingdom\", \"Russia\": \"Russian Federation\"})"
   ]
  },
  {
   "cell_type": "code",
   "execution_count": null,
   "metadata": {},
   "outputs": [],
   "source": [
    "top_alcohol = alcohol_final.sort_values(by='Country', ascending=False)\n",
    "top_alcohol.head(50)"
   ]
  },
  {
   "cell_type": "code",
   "execution_count": null,
   "metadata": {},
   "outputs": [],
   "source": [
    "# Combine World Happiness Report and WHO alcohol data\n",
    "happiness_alcohol = happiness_final.merge(alcohol_final, how='inner', on=[\"Country\"])\n",
    "\n",
    "# Display the data table for preview\n",
    "happiness_alcohol[\"Country\"] = happiness_alcohol[\"Country\"].str.strip()\n",
    "\n",
    "happiness_alcohol\n"
   ]
  },
  {
   "cell_type": "code",
   "execution_count": null,
   "metadata": {},
   "outputs": [],
   "source": [
    "top_happy = happiness_alcohol.sort_values(by='Country', ascending=False)\n",
    "top_happy.head(50)"
   ]
  },
  {
   "cell_type": "code",
   "execution_count": null,
   "metadata": {},
   "outputs": [],
   "source": [
    "final_results = final_hdi_gdp_life.merge(happiness_alcohol, how=\"inner\", on=[\"Country\"])\n",
    "final_results.to_csv(output_data_file)"
   ]
  },
  {
   "cell_type": "code",
   "execution_count": null,
   "metadata": {},
   "outputs": [],
   "source": [
    "final_results"
   ]
  },
  {
   "cell_type": "code",
   "execution_count": null,
   "metadata": {},
   "outputs": [],
   "source": [
    "top_alcohol = final_results.sort_values(by='All types', ascending=False)\n",
    "top_alcohol.head(50)"
   ]
  },
  {
   "cell_type": "code",
   "execution_count": null,
   "metadata": {},
   "outputs": [],
   "source": [
    "all_types_df = final_results[['Country',\n",
    "                              'All types',\n",
    "                              'Beer',\n",
    "                              'Spirits',\n",
    "                              'Wine',\n",
    "                              'Other']]\n",
    "\n",
    "# get min and max of all types\n",
    "all_types_max = all_types_df['All types'].max()\n",
    "all_types_min = all_types_df['All types'].min()\n",
    "# print(f'max: {all_types_max}')\n",
    "# print(f'min: {all_types_min}')\n",
    "\n",
    "# find range of all types\n",
    "all_types_range = all_types_max - all_types_min\n",
    "# print(f'range: {all_types_range}')\n",
    "\n",
    "# split range into 3 even groups using an increment\n",
    "all_types_bin_increments = all_types_range / 3\n",
    "# print(f'increments: {all_types_bin_increments}')\n",
    "\n",
    "# create all types bins\n",
    "all_types_bins = [all_types_min,\n",
    "               all_types_min + all_types_bin_increments,\n",
    "               all_types_min + (all_types_bin_increments * 2),\n",
    "               all_types_max]\n",
    "# print(all_types_bins)\n",
    "\n",
    "# turn bin increments into strings for labels\n",
    "bin_str_min = str(all_types_min)\n",
    "bin_str_1 = str(all_types_min + all_types_bin_increments)\n",
    "bin_str_2 = str(all_types_min + (all_types_bin_increments * 2))\n",
    "bin_str_max = str(all_types_max)\n",
    "\n",
    "# create bin labels\n",
    "all_tyles_bin_labels = [f'Small: ({bin_str_min}-{bin_str_1})',\n",
    "                        f'Medium: ({bin_str_1}-{bin_str_2})',\n",
    "                        f'Large: ({bin_str_2}-{bin_str_max})']\n",
    "print(all_tyles_bin_labels)\n",
    "\n",
    "# name bin and separate rows into bins\n",
    "all_types_df['Groups by Total Consumption'] = pd.cut(all_types_df['All types'],all_types_bins, labels=all_tyles_bin_labels, include_lowest=True)\n",
    "all_types_df\n",
    "\n",
    "# create group by bin\n",
    "all_types_grouped_df = all_types_df.groupby('Groups by Total Consumption')\n",
    "all_types_grouped_df.count()\n",
    "\n",
    "# calculate averages by category\n",
    "group_country_count = all_types_grouped_df['Country'].count()\n",
    "group_avg_all = all_types_grouped_df['All types'].mean()\n",
    "group_avg_beer = all_types_grouped_df['Beer'].mean()\n",
    "group_avg_spirits = all_types_grouped_df['Spirits'].mean()\n",
    "group_avg_wine = all_types_grouped_df['Wine'].mean()\n",
    "group_avg_other = all_types_grouped_df['Other'].mean()\n",
    "\n",
    "# create new grouped df\n",
    "group_avg_df = pd.DataFrame({'Count of Countries': group_country_count,\n",
    "                             'Average All Types': round(group_avg_all, 2),\n",
    "                             'Average Beer': round(group_avg_beer, 2),\n",
    "                             'Average Spirits': round(group_avg_spirits, 2),\n",
    "                             'Average Wine': round(group_avg_wine, 2),\n",
    "                             'Average Other': round(group_avg_other, 2)})\n",
    "\n",
    "group_avg_df.reset_index(inplace=True)\n",
    "\n",
    "group_avg_df"
   ]
  },
  {
   "cell_type": "code",
   "execution_count": null,
   "metadata": {},
   "outputs": [],
   "source": [
    "# Setting the positions and width for the bars\n",
    "pos = list(range(len(group_avg_df['Count of Countries'])))\n",
    "width = 0.2\n",
    "\n",
    "# plot bars\n",
    "fig, ax = plt.subplots(figsize=(12,7))\n",
    "plt.bar(pos, \n",
    "        group_avg_df['Average Beer'], \n",
    "        width,\n",
    "        alpha=0.75, \n",
    "        color='#FFC222',\n",
    "        label=group_avg_df['Groups by Total Consumption'][0]) \n",
    "\n",
    "plt.bar([p + width for p in pos], \n",
    "        group_avg_df['Average Spirits'],\n",
    "        width, \n",
    "        alpha=0.75, \n",
    "        color='#F78F1E', \n",
    "        label=group_avg_df['Groups by Total Consumption'][1]) \n",
    "\n",
    "plt.bar([p + width*2 for p in pos], \n",
    "        group_avg_df['Average Wine'],\n",
    "        width, \n",
    "        alpha=0.75, \n",
    "        color='#800020', \n",
    "        label=group_avg_df['Groups by Total Consumption'][2])\n",
    "\n",
    "plt.bar([p + width*3 for p in pos], \n",
    "        group_avg_df['Average Other'],\n",
    "        width, \n",
    "        alpha=0.75, \n",
    "        color='#696969', \n",
    "        label=group_avg_df['Groups by Total Consumption'][2]) \n",
    "\n",
    "# format plot\n",
    "plt.ylabel('Litres of Pure Alcohol per Year', fontsize=14)\n",
    "plt.title('Countries Grouped by Total Consumption', fontsize=18)\n",
    "plt.xticks([p + 1.5 * width for p in pos])\n",
    "ax.set_xticklabels(group_avg_df['Groups by Total Consumption'], fontsize=12)\n",
    "plt.xlim(min(pos)-width, max(pos)+width*4)\n",
    "plt.tick_params(axis='y', which='major', labelsize=12)\n",
    "plt.ylim([0, 5])\n",
    "plt.legend(['Beer', 'Spirits', 'Wine', 'Other'], loc='upper left', fontsize=12)\n",
    "plt.grid(linestyle=':', axis='y')\n",
    "\n",
    "plt.savefig('output_data/groupedbar.png')\n",
    "plt.show()"
   ]
  },
  {
   "cell_type": "code",
   "execution_count": null,
   "metadata": {},
   "outputs": [],
   "source": [
    "all_alc_x = final_results['All types']\n",
    "hdi_y = final_results['HDI']\n",
    "\n",
    "hdi_slope, hdi_int, hdi_r, hdi_p, hdi_std_err = st.linregress(all_alc_x, hdi_y)\n",
    "hdi_regression = hdi_slope * all_alc_x + hdi_int\n",
    "hdi_regression_txt = f'y = {str(round(hdi_slope,2))}x + {str(round(hdi_int,2))}'\n",
    "\n",
    "plt.figure(figsize=(12, 7))\n",
    "plt.scatter(all_alc_x, hdi_y, marker='o', facecolors=\"#648DE5\", edgecolors=\"#1e4bae\", s=100)\n",
    "plt.plot(all_alc_x, hdi_regression, color='#B8AB3E', linewidth=3)\n",
    "plt.title(f'Total Consumption vs. Human Development Index (HDI)', fontsize=18)\n",
    "plt.xlabel('Total Consumption (litres)', fontsize=14)\n",
    "plt.ylabel('Human Development Index', fontsize=14)\n",
    "plt.annotate(f'Correlation:  {round(hdi_r, 2)}', xy=(0.60, 0.1), xycoords='axes fraction', \\\n",
    "             fontsize=14, color='#997625')\n",
    "plt.annotate(f'Linear Reg:  {hdi_regression_txt}', xy=(0.60, 0.05), xycoords='axes fraction', \\\n",
    "             fontsize=14, color='#997625')\n",
    "plt.tick_params(axis='both', which='major', labelsize=12)\n",
    "\n",
    "plt.savefig('output_data/hdi_v_all_scatter.png')\n",
    "plt.show()\n"
   ]
  },
  {
   "cell_type": "code",
   "execution_count": null,
   "metadata": {},
   "outputs": [],
   "source": [
    "y_values = final_results[\"GDP (per capita PPP)\"] \n",
    "x_values = final_results[\"All types\"]\n",
    "\n",
    "(slope, intercept, rvalue, pvalue, stderr) = st.linregress(x_values, y_values)\n",
    "\n",
    "regress_values = x_values * slope + intercept\n",
    "\n",
    "line_eq = \"y = \" + str(round(slope,2)) + \"x + \" + str(round(intercept,2))\n",
    "\n",
    "# Create scatterplot with linear regression\n",
    "plt.scatter(x_values,y_values)\n",
    "\n",
    "plt.plot(x_values,regress_values, \"r-\")\n",
    "plt.annotate(line_eq,(5, 10000),fontsize=15,color=\"red\")\n",
    "plt.xlabel(\"Alcohol Consumption\")\n",
    "plt.ylabel(\"GDP (per capita PPP)\")\n",
    "print(f\"The Correlation Coefficient is: {rvalue}\")\n",
    "plt.title(\"GDP vs Alcohol Consumption\")\n",
    "plt.grid()\n",
    "plt.show()\n"
   ]
  },
  {
   "cell_type": "code",
   "execution_count": null,
   "metadata": {},
   "outputs": [],
   "source": [
    "x_values = final_results[\"GDP (per capita PPP)\"]\n",
    "y_values = final_results[\"Score\"]\n",
    "\n",
    "(slope, intercept, rvalue, pvalue, stderr) = st.linregress(x_values, y_values)\n",
    "\n",
    "regress_values = x_values * slope + intercept\n",
    "\n",
    "line_eq = \"y = \" + str(round(slope,2)) + \"x + \" + str(round(intercept,2))\n",
    "\n",
    "# Create scatterplot with linear regression\n",
    "plt.scatter(x_values,y_values)\n",
    "\n",
    "plt.plot(x_values,regress_values, \"r-\")\n",
    "plt.annotate(line_eq,(60000,4),fontsize=15,color=\"red\")\n",
    "plt.xlabel(\"GDP (per capita PPP)\")\n",
    "plt.ylabel(\"Happiness Score\")\n",
    "print(f\"The Correlation Coefficient is: {rvalue}\")\n",
    "plt.title(\" Happiness Score vs GDP\")\n",
    "plt.grid()\n",
    "plt.show()"
   ]
  },
  {
   "cell_type": "code",
   "execution_count": null,
   "metadata": {},
   "outputs": [],
   "source": [
    "x_values = final_results[\"Score\"]\n",
    "y_values = final_results[\"All types\"]\n",
    "\n",
    "(slope, intercept, rvalue, pvalue, stderr) = st.linregress(x_values, y_values)\n",
    "\n",
    "regress_values = x_values * slope + intercept\n",
    "\n",
    "line_eq = \"y = \" + str(round(slope,2)) + \"x + \" + str(round(intercept,2))\n",
    "\n",
    "# Create scatterplot with linear regression\n",
    "plt.scatter(x_values,y_values)\n",
    "\n",
    "plt.plot(x_values,regress_values, \"r-\")\n",
    "plt.annotate(line_eq,(6,4),fontsize=15,color=\"red\")\n",
    "plt.xlabel(\"Happiness Score\")\n",
    "plt.ylabel(\"Alcohol Consumption\")\n",
    "print(f\"The Correlation Coefficient is: {rvalue}\")\n",
    "plt.title(\" Happiness Score vs GDP\")\n",
    "plt.grid()\n",
    "plt.show()"
   ]
  },
  {
   "cell_type": "code",
   "execution_count": null,
   "metadata": {},
   "outputs": [],
   "source": [
    "x_values = final_results[\"All types\"]\n",
    "y_values = final_results[\"Score\"]\n",
    "\n",
    "(slope, intercept, rvalue, pvalue, stderr) = st.linregress(x_values, y_values)\n",
    "\n",
    "regress_values = x_values * slope + intercept\n",
    "\n",
    "line_eq = \"y = \" + str(round(slope,2)) + \"x + \" + str(round(intercept,2))\n",
    "\n",
    "# Create scatterplot with linear regression\n",
    "plt.scatter(x_values,y_values)\n",
    "\n",
    "plt.plot(x_values,regress_values, \"r-\")\n",
    "plt.annotate(line_eq,(3,4),fontsize=15,color=\"red\")\n",
    "plt.xlabel(\"Alcohol Consumption\")\n",
    "plt.ylabel(\"Happiness Score\")\n",
    "print(f\"The Correlation Coefficient is: {rvalue}\")\n",
    "plt.title(\" Happiness Score vs GDP\")\n",
    "plt.grid()\n",
    "plt.show()"
   ]
  },
  {
   "cell_type": "code",
   "execution_count": null,
   "metadata": {},
   "outputs": [],
   "source": [
    "x_values = final_results[\"Life Expectancy\"]\n",
    "y_values = final_results[\"All types\"]\n",
    "\n",
    "(slope, intercept, rvalue, pvalue, stderr) = st.linregress(x_values, y_values)\n",
    "\n",
    "regress_values = x_values * slope + intercept\n",
    "\n",
    "line_eq = \"y = \" + str(round(slope,2)) + \"x + \" + str(round(intercept,2))\n",
    "\n",
    "# Create scatterplot with linear regression\n",
    "plt.scatter(x_values,y_values)\n",
    "\n",
    "plt.plot(x_values,regress_values, \"r-\")\n",
    "plt.annotate(line_eq,(70,4),fontsize=15,color=\"red\")\n",
    "plt.xlabel(\"Life Expectancy\")\n",
    "plt.ylabel(\"Alcohol Consumption\")\n",
    "print(f\"The Correlation Coefficient is: {rvalue}\")\n",
    "plt.title(\"Live Expectancy vs GDP\")\n",
    "plt.grid()\n",
    "plt.show()"
   ]
  },
  {
   "cell_type": "code",
   "execution_count": null,
   "metadata": {},
   "outputs": [],
   "source": [
    "x_values = final_results[\"HDI\"]\n",
    "y_values = final_results[\"All types\"]\n",
    "\n",
    "(slope, intercept, rvalue, pvalue, stderr) = st.linregress(x_values, y_values)\n",
    "\n",
    "regress_values = x_values * slope + intercept\n",
    "\n",
    "line_eq = \"y = \" + str(round(slope,2)) + \"x + \" + str(round(intercept,2))\n",
    "\n",
    "# Create scatterplot with linear regression\n",
    "plt.scatter(x_values,y_values)\n",
    "\n",
    "plt.plot(x_values,regress_values, \"r-\")\n",
    "plt.annotate(line_eq,(1,.5),fontsize=15,color=\"red\")\n",
    "plt.xlabel(\"HDI\")\n",
    "plt.ylabel(\"Alcohol Consumption\")\n",
    "print(f\"The Correlation Coefficient is: {rvalue}\")\n",
    "plt.title(\"Alcohol Consumption vs HDI\")\n",
    "plt.grid()\n",
    "plt.show()"
   ]
  },
  {
   "cell_type": "code",
   "execution_count": null,
   "metadata": {},
   "outputs": [],
   "source": []
  }
 ],
 "metadata": {
  "kernelspec": {
   "display_name": "Python 3",
   "language": "python",
   "name": "python3"
  },
  "language_info": {
   "codemirror_mode": {
    "name": "ipython",
    "version": 3
   },
   "file_extension": ".py",
   "mimetype": "text/x-python",
   "name": "python",
   "nbconvert_exporter": "python",
   "pygments_lexer": "ipython3",
   "version": "3.6.10"
  }
 },
 "nbformat": 4,
 "nbformat_minor": 4
}
