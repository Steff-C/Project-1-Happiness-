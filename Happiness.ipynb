{
 "cells": [
  {
   "cell_type": "code",
   "execution_count": null,
   "metadata": {},
   "outputs": [],
   "source": [
    "# Dependencies and Setup\n",
    "import matplotlib.pyplot as plt\n",
    "import pandas as pd\n",
    "import scipy.stats as st\n",
    "import numpy as np\n",
    "import functools\n",
    "\n",
    "\n"
   ]
  },
  {
   "cell_type": "code",
   "execution_count": null,
   "metadata": {},
   "outputs": [],
   "source": [
    "# Data file paths\n",
    "alcohol_path = \"data (1).csv\"\n",
    "happiness_path = \"2018.csv\"\n",
    "hdi_path = \"2018 Human Development Index (HDI).csv\"\n",
    "gdp_path = \"GDP per capita (2017 PPP $).csv\"\n",
    "life_path = \"Life expectancy at birth (years).csv\"\n",
    "\n",
    "# Output file\n",
    "output_data_file = \"output_data/alcohol_vs_happiness.csv\"\n",
    "\n",
    "# Read the data files\n",
    "alcohol_data = pd.read_csv(alcohol_path)\n",
    "happiness_data = pd.read_csv(happiness_path)\n",
    "hdi_data = pd.read_csv(hdi_path, skiprows=5, encoding=\"cp1252\")\n",
    "gdp_data = pd.read_csv(gdp_path, encoding=\"cp1252\", skiprows=5)\n",
    "life_data = pd.read_csv(life_path, encoding=\"cp1252\", skiprows=6)\n"
   ]
  },
  {
   "cell_type": "code",
   "execution_count": null,
   "metadata": {},
   "outputs": [],
   "source": [
    "# Grab 2018 data, clean and merge HDI, GDP and Life Expectancy \n",
    "clean_gdp_data = gdp_data[[\"Country\", \"2018\"]]\n",
    "gdp_hdi = clean_gdp_data.merge(hdi_data, how='inner', on=[\"Country\"])\n",
    "final_gdp_hdi = gdp_hdi.rename(columns={\"2018_x\": \"GDP (per capita PPP)\", \"2018_y\": \"HDI\"})\n",
    "clean_life_data = life_data[[\"Country\", \"2018\"]]\n",
    "clean_life_data = clean_life_data.rename(columns={\"2018\": \"Life Expectancy\"})\n",
    "final_hdi_gdp_life = final_gdp_hdi.merge(clean_life_data, how='inner', on=[\"Country\"])\n",
    "#final_hdi_gdp_life = final_hdi_gdp_life.dropna()\n",
    "final_hdi_gdp_life = final_hdi_gdp_life.iloc[:-25]\n",
    "final_hdi_gdp_life.dtypes"
   ]
  },
  {
   "cell_type": "code",
   "execution_count": null,
   "metadata": {},
   "outputs": [],
   "source": [
    "final_hdi_gdp_life[[\"GDP (per capita PPP)\", \"HDI Rank\", \"HDI\", \"Life Expectancy\"]] = final_hdi_gdp_life[[\"GDP (per capita PPP)\", \"HDI Rank\", \"HDI\", \"Life Expectancy\"]].astype(float)\n",
    "final_hdi_gdp_life.dtypes\n"
   ]
  },
  {
   "cell_type": "code",
   "execution_count": null,
   "metadata": {},
   "outputs": [],
   "source": [
    "final_hdi_gdp_life = final_hdi_gdp_life.sort_values(by='GDP (per capita PPP)', ascending=False)\n",
    "final_hdi_gdp_life.to_csv(output_data_file, encoding=\"utf8\")\n",
    "final_hdi_gdp_life[\"Country\"] = final_hdi_gdp_life[\"Country\"].str.strip()\n",
    "final_hdi_gdp_life"
   ]
  },
  {
   "cell_type": "code",
   "execution_count": null,
   "metadata": {},
   "outputs": [],
   "source": [
    "# Clean World Happiness Report\n",
    "happiness_final = happiness_data.rename(columns={\"Country or region\": \"Country\"})\n",
    "happiness_final"
   ]
  },
  {
   "cell_type": "code",
   "execution_count": null,
   "metadata": {},
   "outputs": [],
   "source": [
    "# Clean, pivot and reorganize alcohol data\n",
    "alcohol_df = alcohol_data.drop([0])\n",
    "alcohol_results = alcohol_df.pivot_table('Alcohol, recorded per capita (15+) consumption (in litres of pure alcohol)', \n",
    "                                           [\"Unnamed: 0\", \"Unnamed: 1\"], 'Unnamed: 2')                              \n",
    "alcohol = pd.DataFrame(alcohol_results.to_records())\n",
    "alcohol_set = alcohol[[\"Unnamed: 0\", \"All types\", \"Beer\", \"Spirits\", \"Wine\", \"Other alcoholic beverages\"]]\n",
    "alcohol_final = alcohol_set.rename(columns={\"Unnamed: 0\": \"Country\", \"Other alcoholic beverages\": \"Other\"})\n",
    "alcohol_final"
   ]
  },
  {
   "cell_type": "code",
   "execution_count": null,
   "metadata": {},
   "outputs": [],
   "source": [
    "# Combine World Happiness Report and WHO alcohol data\n",
    "happiness_alcohol = happiness_final.merge(alcohol_final, how='inner', on=[\"Country\"])\n",
    "\n",
    "# Display the data table for preview\n",
    "happiness_alcohol[\"Country\"] = happiness_alcohol[\"Country\"].str.strip()\n",
    "\n",
    "happiness_alcohol\n"
   ]
  },
  {
   "cell_type": "code",
   "execution_count": null,
   "metadata": {},
   "outputs": [],
   "source": [
    "final_results = final_hdi_gdp_life.merge(happiness_alcohol, how=\"right\", on=[\"Country\"])\n",
    "final_results"
   ]
  },
  {
   "cell_type": "code",
   "execution_count": null,
   "metadata": {},
   "outputs": [],
   "source": []
  },
  {
   "cell_type": "code",
   "execution_count": null,
   "metadata": {},
   "outputs": [],
   "source": [
    "top_alcohol = happiness_alcohol.sort_values(by='All types', ascending=False)\n",
    "top_alcohol"
   ]
  },
  {
   "cell_type": "code",
   "execution_count": null,
   "metadata": {},
   "outputs": [],
   "source": []
  }
 ],
 "metadata": {
  "kernelspec": {
   "display_name": "Python 3",
   "language": "python",
   "name": "python3"
  },
  "language_info": {
   "codemirror_mode": {
    "name": "ipython",
    "version": 3
   },
   "file_extension": ".py",
   "mimetype": "text/x-python",
   "name": "python",
   "nbconvert_exporter": "python",
   "pygments_lexer": "ipython3",
   "version": "3.6.10"
  }
 },
 "nbformat": 4,
 "nbformat_minor": 4
}
